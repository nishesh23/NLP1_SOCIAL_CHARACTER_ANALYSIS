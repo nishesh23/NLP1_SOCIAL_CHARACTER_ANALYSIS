{
 "cells": [
  {
   "cell_type": "code",
   "execution_count": 1,
   "metadata": {},
   "outputs": [
    {
     "name": "stdout",
     "output_type": "stream",
     "text": [
      "Multiple posts: [ObjectId('5c0dfbd7f43ca003a7c88eba'), ObjectId('5c0dfbd7f43ca003a7c88ebb'), ObjectId('5c0dfbd7f43ca003a7c88ebc')]\n"
     ]
    }
   ],
   "source": [
    "import datetime\n",
    "now = datetime.datetime.now()\n",
    "from pymongo import MongoClient\n",
    "from bson.objectid import ObjectId\n",
    "con = MongoClient(\"localhost\", 27017)\n",
    "db=con.leadership\n",
    "ledo = db.ledo1\n",
    "post_1 = {\n",
    "    'name': 'RAHUL',\n",
    "    'content': 'leadership',\n",
    "    'review': \"good leader one willing jump arena odds one strive fearlessly fall short give good leader risk taker welcome change second nature rise cynics critics know put people best reap great rewards enthusiastic devotion fails least fails hero garnered enough knowledge next conquest place shall never faint hearted folks neither know triumph downfall\"\n",
    "}\n",
    "post_2 = {\n",
    "     'name': 'Rahul',\n",
    "    'content': 'leadership',\n",
    "    'review':  \"strong realistic'\"\n",
    "}\n",
    "post_3 = {\n",
    "     'name': 'Rahul',\n",
    "    'content': 'leadership',\n",
    "    'review': \"team quiet asking questions bringing problems attention leadership negative effect tackle change way start inquiries use open ended questions versus closed ended ones bring elephants room discussions use silence push people speak crickets means stopping conversation leila bulling towne bulling towne group llc\"\n",
    "}\n",
    "new_result = ledo.insert_many([post_1, post_2, post_3])\n",
    "print('Multiple posts: {0}'.format(new_result.inserted_ids))\n",
    "\n",
    "import re\n",
    "import pandas as pd \n",
    "import numpy as np \n",
    "import matplotlib.pyplot as plt \n",
    "import seaborn as sns\n",
    "import string\n",
    "import nltk\n",
    "import warnings \n",
    "from nltk.corpus import stopwords\n",
    "from nltk.tokenize import word_tokenize\n",
    "\n",
    "def cleanStr(string):\n",
    "    string = re.sub(r\"\\'s\", \"\", string)\n",
    "    string = re.sub(r\"\\'ve\", \"\", string)\n",
    "    string = re.sub(r\"n\\'t\", \"\", string)\n",
    "    string = re.sub(r\"\\'re\", \"\", string)\n",
    "    string = re.sub(r\"\\'d\", \"\", string)\n",
    "    string = re.sub(r\"\\'ll\", \"\", string)\n",
    "    string = re.sub(r\",\", \"\", string)\n",
    "    string = re.sub(r\"!\", \" ! \", string)\n",
    "    string = re.sub(r\"\\(\", \"\", string)\n",
    "    string = re.sub(r\"\\)\", \"\", string)\n",
    "    string = re.sub(r\"\\?\", \"\", string)\n",
    "    string = re.sub(r\"'\", \"\", string)\n",
    "    string = re.sub(r\"[^A-Za-z0-9(),!?\\'\\`]\", \" \", string)\n",
    "    string = re.sub(r\"[0-9]\\w+|[0-9]\",\"\", string)\n",
    "    string = re.sub(r\"\\s{2,}\", \" \", string)\n",
    "    return string.strip().lower()\n"
   ]
  },
  {
   "cell_type": "code",
   "execution_count": 2,
   "metadata": {},
   "outputs": [],
   "source": [
    "from nltk.corpus import stopwords\n",
    "from nltk.tokenize import word_tokenize\n",
    "stop_words = set(stopwords.words('english'))\n",
    "\n",
    "def removeStopwords(sentence):\n",
    "    word_tokens = word_tokenize(sentence)\n",
    "    filtered_sentence = []\n",
    "    for w in word_tokens:\n",
    "        if w not in stop_words:\n",
    "            filtered_sentence.append(w)\n",
    "            \n",
    "    \n",
    "    return \" \".join(str(e) for e in filtered_sentence)\n"
   ]
  },
  {
   "cell_type": "code",
   "execution_count": 3,
   "metadata": {},
   "outputs": [
    {
     "name": "stdout",
     "output_type": "stream",
     "text": [
      "['leadership everywhere', '', 'amazing leaders write time success stories tips journeys since love add value readers community thought turn messages piece true leadership matters practicing preach every day favorite useful lessons leaders across array professions', 'take risks', '', 'good leader one willing jump arena odds one strive fearlessly fall short give good leader risk taker welcome change second nature rise cynics critics know put people best reap great rewards enthusiastic devotion fails least fails hero garnered enough knowledge next conquest place shall never faint hearted folks neither know triumph downfall', '', '', '', 'visionary', '', 'great leader communicates vision articulately employees setting milestones leading team work towards actualization vision showing humility exhibiting confidence without appearing cocky kind remaining realistic leader forges clear path envisioned destination give despite challenges arise way employees draw motivation trustworthy leaders encourage inspire work hard towards common goal exemplary leadership sometimes requires taking heat team instead handing blame great leadership means guiding correcting non controlling supportive manner despite boss great leader serves alongside staff achieve predetermined goals great leaders walk talk', 'embrace grit inspiration', '', 'ability successfully get business personal obstacles life business makes best leaders successful presidents ceos principals managers teachers grit used grit push sand eyes leaders able persist setbacks strong commitment goals', '', 'grit inspires subordinates achieve greatness great leader may know admiration respect held become source inspiration success stories make others yearn greatness gritty individual visualizes long term goal good bad focus directs indirectly inspires employees forge forward', '', '', 'audit attitude towards work', '', 'understanding organization degree able grasp appreciate individual elements company importance business attribute great leaders especially difficult important automotive industry many moving parts sections marketing finance dealerships engineering production understanding able display creates atmosphere trust homogenous vision employees colleagues certain extent customers buy even true point getting stuck smaller projects add personal touch really inspire lead', '', '', '', 'strong realistic', '', 'great leader understands lead followers strong people heed strong leaders team needs know leader position make difficult decisions watching great good entire group strength demonstrated face adversity greatest leaders without inkling towards taking control domineering effect demonstrate strength great leaders confident decisions still maintain realistic approach towards daily challenges strong realistic leader knows go opportunity let go benefit team', '', '', '', 'take pleasure journey', '', 'beauty achieving success path took reach leader everyone looks upon shape mission decide whether steal kill reach top whether work smart let path choose rewarding destination process achieving goal one ultimately culminates self growth allow discover new things show real potential rewards wise leader knows celebrate journey much end results', '', '', 'focus essentials', '', 'highly effective leaders stick area expertise stuff know well best high impact activities ultimately advance life work ward distractions tend fight attention delegate know best suited handle concentrating point brilliance give time devote things power change lives world leave legacy destined leave', '', '', '', 'accept correction', '', 'reports analytics paint real picture business experiences thoughts challenges talk behind glass represent actual state affairs company great leader encourages two way communication candidness expression hold open mic sessions encourage employees let hearts open communication breaks barriers builds stronger teams', '', 'end everyone makes mistakes great leader acknowledges mistakes pointed subordinates besides listening take advice given communication barking commands listening person side glass correction could uncalled quality grows great leaders listen team smile learn life learning great leader imperfectly perfect takes great leader acknowledge imperfections', '', '', 'appreciate unique personality', '', 'work ethics organizational skills commonly referred conscientiousness well enthusiasm sociability remarkable attributes great leaders extroverts soft skills bones effective goal setting determination sociable enthusiast inspires offers motivation everyone around ambiance create determines perceived exuberant spirit makes role model leader', '', 'great leader introvert thoughtfulness excellent listening skills make introverts even greater leaders despite differences great leader identifies strongest qualities either end works improving end great leader hones balanced skill set introvert extrovert end creating wholesome individual steers subordinates greatness', '', 'invest family', '', 'great leaders keen closing many deals possible closing sales running businesses mean staying top things reassessing budgets mentoring employees attending clients unfortunately translates long working hours', '', 'however great leaders things differently despite pile desks leave office time go families', '', 'ability show employees importance work life balance creates culture based better time management must emphasize importance taking breaks putting family first every great leader lost deals replaced bigger opportunities family friends irreplaceable great leaders investing family matters', '', '', '', 'cautious', '', 'leader responsible interests literally people fates hands every decision make always reflect afford reckless sort caution seem valiant course misconstrued like spineless prudence cowardly leader world already fooled believe anyone ready risk great failure bounce back tragedy certified hero got wrong bravery valor defying human itch act frantically regard consequences good leader one takes painful steps prepare unimaginable good leader forever cautious', '', 'wendy huang founder wengie', '', 'inspire impose', '', 'leadership fail succeed strength ability change subordinates views become leader well least kind deserves called good leadership fails succeeds strength ability engage subordinates make think give glimpse leader point view without necessarily shoving throat end subordinates agree leader opinions feel comfortable voice displeasure fear reproach good leader patient willing listen inspire subordinates rather inflict views others', '', '', '', 'love work', '', 'work play inseparable leader learned succeed leader utterly fall love cause like playing game chess mind stimulated think time enjoying moment stop viewing work burden means make living moment start see great results within time see kind love work within team', '', 'paul martin founder cartitleloanlenders', '', 'flexible', '', 'constant life change leader open change bound curtail advancement change course disruptive something big internet minor new colored pen people willing disrupt lives come top good leader ought set good example rest boldly say tried worked think give chance say gave ago work well think requires bit refinement paramount thing scenarios leader willing try flexible leader pave way newer greater things', '', 'ability inspire people along ability communicate clear vision commitment integrity desire support success team however defined important components leadership', '', 'leadership boss position power depending situation position power may help hinder leader leadership distinct attribute also control control used appropriately bad need appropriate controls many aspects life quality control example see happens appropriate controls absent example recent train wrecks involving amtrac united states past two months', '', 'leaders inspire people go beyond thought could often expanding possibilities managers hand limit possibilities within appropriate parameters focusing effort leader manager separate though related skill sets many today called business leaders fact often leaders senior managers often called executives control administer organizations often inspire people business leaders demean teams employees referring headcount livestock example unlikely inspire anybody', '', 'leaders exist levels organizations institutions societies one common attribute help people raise', 'game', 'humble', '', 'number one leadership quality hot button ego hard time big ego leaders top quality list increase influence humble lead quietly confidently share credit find ways serve others approachable drive fear allowing people contribute experiment develop strengths', '', 'collaboration', '', 'collaborative leaders allow people share responsibility combine knowledge creativity experience others able produce synergistic well creative win win solutions', '', 'related post types leadership styles building effective team', '', 'passion', '', 'leaders conviction possess passionate determination achieve team plans goals intense drive focus persistence creates ability succeed everything set minds', '', 'courage', '', 'courageous leaders proactive relationship environment surrounding act anticipation avoid reactive behavior whenever possible seek information stay informed potential risks nonetheless willing face challenges head', '', 'accountable', '', 'leaders accountable decisions behaviors actions take ownership choices make dodge responsibility results good', '', 'trustworthy', '', 'trustworthy leaders consistent words actions trust built time developed actively listening acting resource empowering others responsive recognizing accomplishments even small successes', '', 'aligned', '', 'aligned leaders always take interest anything affects productivity welfare team means moving beyond personal agenda fully supporting implementation team agenda', '', 'communication', '', 'leaders communicate effectively others use skill gain better understanding around builds trust allows better align goals actions plan execute strategies ultimately improve odds success', '', 'mike schoultz founder digital spark marketing digital marketing customer service agency years business experience writes topics relate improving performance business please bookmark blog awesome stories articles']\n",
      "BREAK\n",
      "['presides mess', 'presides mess', 'invisible gives orders staff expects carried', 'thinks personal rewards status looks outsiders', 'uncomfortable people', 'manages wandering around', 'late usually leaves time', 'strained blue collars', 'good talker', 'good demonstrating command complexities', 'hard reach', 'exploits rest', 'arrogant', 'elusive artful dodger', 'goodies stake', 'complicates makes look difficult', 'intolerant open disagreement', 'know people names', 'vacillates decision needed', 'dog work', 'trusts words numbers paper', 'keeps final decisions', 'looks scapegoat', 'bad leader identified ability destroy effectiveness team particularly bad manager sucks joy life energy enthusiasm organization instead performing high quality work adds value organization uninspired mediocre work instead providing great customer service inspires customers sing praises sloppy inattentive work annoys customers leaders arrogant irritating snarky people make good people want quit move even though like company', '', 'military business world forty years often get asked takes top line leader experience leads ability recognizing good bad leaders focus traits bad leadership list traits leaders would avoid costs', '', 'want effective leader greater influence work avoid traits', '', 'pessimism', '', 'people want follow optimist person always looking prioritize solve problems people want stay away negative vibes costs leaders allow problems fester big issues', '', 'able make decisions', '', 'terrible leader lacks ability assess core issues situations quickly decide course action struggle decisiveness', '', 'lacking preparation', '', 'poor leaders lazy delegate work rarely prepared anything often look hopeless', '', 'poor judge character', '', 'poor leaders avoid surrounding talent would make look bad rarely ever seek listen people points view', '', 'fearlessness', '', 'fear crippling thing especially terrible leader affects everything importantly decision making', '', 'avoid adversity', '', 'poor leaders avoid controversy terrible leaders usually try please majority stick guns follow heart', '', 'trustworthy', '', 'trust key element bad leaders difficult time building teams built words actions evidence often missing', '', 'related post secrets becoming remarkably mindful leader', '', 'use fights reach consensus', '', 'fights emotional often personal disagreements lead consensus frequently tool terrible leader', '', 'avoid change', '', 'bad leaders react change rather initiating change always chasing understand rarely understand change necessary make situation better', '', 'non communicators', '', 'communication glue forms bond leaders teams holds great teams together poor leaders communicate teams know speak remain silent', '', 'listening', '', 'poor leaders want hear say awful listeners usually wrapped', '', 'lacking beliefs', '', 'weak leaders rarely know believe going', '', 'lack personality', '', 'smart like poor leaders think strong personal relationships high levels trust foundation effective leadership terrible leaders rarely grasp aspect effective leadership lack empathy interest others good solid relationships', '', 'faultless', '', 'bad leaders never think anything fault never apologize imaginary world never wrong', '', 'always telling', '', 'good leaders normally ask something occasionally tell bad ones never ask always tell demand stop whatever get done regardless elsey ou', '', 'creates bad teamwork culture', '', 'poor leaders create culture infighting back biting sabotage team effort', 'silos conflicts departments', '', 'lack productivity fighting among employees departments symptoms poor leadership top without cohesive leadership team top dysfunction cascades throughout department division organization leaders top must create healthy team real trust robust debate ideas commitment decisions accountability focus results christine allen ph insight business works', '', 'leader closed new perspectives', '', 'leader closed taking new perspectives leader growing team first step take person work get clear commitment growth impact world leader takes step back look big picture help refocus need show leader aaron levy raise bar consulting', '', 'employee attrition high', '', 'high rate attrition leading indicator troubled leadership employees leave needs served simple make people managers responsible retention engagement building tools everyday roles tie year end reviews bonuses ensure empowered training resources time tools support c suite', 'one asking questions', '', 'team quiet asking questions bringing problems attention leadership negative effect tackle change way start inquiries use open ended questions versus closed ended ones bring elephants room discussions use silence push people speak crickets means stopping conversation leila bulling towne bulling towne group llc', '', 'accidents allowed', '', 'leader focused perfection create unrealistic workloads dismiss teachable moments productivity take time focus delegation work improve processes better shared performance create safe place feedback rebalancing responsibilities input team positive leader harvests potential mistakes meredith moore crosby leverette weekes', '', 'compassion lacking', '', 'many ineffective leaders understand great leadership influence authority therefore one things missing true sense compassion want others voluntarily follow prove passionate interests best leaders care much even followers donald hatter donald hatter inc', '', 'people ducking covering', '', 'employees spending time ducking covering spending time bringing creativity engagement table see duck cover behavior negative leadership culture present based control lack trust assumption without forced accountability employees bring game']\n",
      "break2\n",
      "['POSITIVE', 'POSITIVE', 'POSITIVE', 'POSITIVE', 'POSITIVE', 'POSITIVE', 'POSITIVE', 'POSITIVE', 'POSITIVE', 'POSITIVE', 'POSITIVE', 'POSITIVE', 'POSITIVE', 'POSITIVE', 'POSITIVE', 'POSITIVE', 'POSITIVE', 'POSITIVE', 'POSITIVE', 'POSITIVE', 'POSITIVE', 'POSITIVE', 'POSITIVE', 'POSITIVE', 'POSITIVE', 'POSITIVE', 'POSITIVE', 'POSITIVE', 'POSITIVE', 'POSITIVE', 'POSITIVE', 'POSITIVE', 'POSITIVE', 'POSITIVE', 'POSITIVE', 'POSITIVE', 'POSITIVE', 'POSITIVE', 'POSITIVE', 'POSITIVE', 'POSITIVE', 'POSITIVE', 'POSITIVE', 'POSITIVE', 'POSITIVE', 'POSITIVE', 'POSITIVE', 'POSITIVE', 'POSITIVE', 'POSITIVE', 'POSITIVE', 'POSITIVE', 'POSITIVE', 'POSITIVE', 'POSITIVE', 'POSITIVE', 'POSITIVE', 'POSITIVE', 'POSITIVE', 'POSITIVE', 'POSITIVE', 'POSITIVE', 'POSITIVE', 'POSITIVE', 'POSITIVE', 'POSITIVE', 'POSITIVE', 'POSITIVE', 'POSITIVE', 'POSITIVE', 'POSITIVE', 'POSITIVE', 'POSITIVE', 'POSITIVE', 'POSITIVE', 'POSITIVE', 'POSITIVE', 'POSITIVE', 'POSITIVE', 'POSITIVE', 'POSITIVE', 'POSITIVE', 'POSITIVE', 'POSITIVE', 'POSITIVE', 'POSITIVE', 'POSITIVE', 'POSITIVE', 'POSITIVE', 'POSITIVE', 'POSITIVE', 'POSITIVE', 'POSITIVE', 'POSITIVE', 'POSITIVE', 'POSITIVE', 'POSITIVE', 'POSITIVE', 'POSITIVE', 'POSITIVE', 'POSITIVE', 'POSITIVE', 'POSITIVE', 'POSITIVE', 'POSITIVE', 'POSITIVE', 'POSITIVE', 'POSITIVE', 'POSITIVE', 'POSITIVE', 'POSITIVE', 'POSITIVE', 'POSITIVE', 'POSITIVE', 'POSITIVE', 'POSITIVE', 'POSITIVE', 'POSITIVE', 'POSITIVE', 'POSITIVE', 'POSITIVE', 'POSITIVE', 'POSITIVE', 'POSITIVE', 'POSITIVE', 'POSITIVE', 'POSITIVE', 'POSITIVE', 'POSITIVE', 'POSITIVE']\n",
      "130\n",
      "120\n"
     ]
    }
   ],
   "source": [
    "fgd = open(\"positive.txt\")\n",
    "fgd1 = fgd.readlines()\n",
    "gdArr = []\n",
    "for i in fgd1:\n",
    "    gdArr.append(removeStopwords(cleanStr(i)))\n",
    "\n",
    "fgd = open(\"negative.txt\")\n",
    "fgd1 = fgd.readlines()\n",
    "adArr = []\n",
    "for i in fgd1:\n",
    "    adArr.append(removeStopwords(cleanStr(i)))\n",
    "\n",
    "descArr = gdArr+adArr\n",
    "print(gdArr)\n",
    "print (\"BREAK\")\n",
    "print (adArr)\n",
    "\n",
    "gdLabel = [\"POSITIVE\"]*len(gdArr)\n",
    "\n",
    "adLabel = [\"NEGATTIVE\"]*len(adArr)\n",
    "\n",
    "print (\"break2\")\n",
    "print(gdLabel)\n",
    "\n",
    "print(len(gdLabel))\n",
    "print(len(adLabel))\n",
    "\n",
    "labelArr =gdLabel+adLabel\n",
    "\n"
   ]
  },
  {
   "cell_type": "code",
   "execution_count": 4,
   "metadata": {},
   "outputs": [
    {
     "name": "stdout",
     "output_type": "stream",
     "text": [
      "0.8235294117647058\n"
     ]
    }
   ],
   "source": [
    "from sklearn.svm import LinearSVC\n",
    "from sklearn.model_selection import train_test_split\n",
    "from sklearn.feature_extraction.text import CountVectorizer\n",
    "from sklearn.feature_extraction.text import TfidfTransformer\n",
    "\n",
    "\n",
    "X_train, X_test, y_train, y_test = train_test_split(descArr, labelArr, random_state = True)\n",
    "count_vect = CountVectorizer()\n",
    "X_train_counts = count_vect.fit_transform(X_train)\n",
    "tfidf_transformer = TfidfTransformer()\n",
    "X_train_tfidf = tfidf_transformer.fit_transform(X_train_counts)\n",
    "clf = LinearSVC().fit(X_train_tfidf,y_train )\n",
    "print(clf.score(X_train_tfidf\n",
    "                ,y_train, sample_weight=None))"
   ]
  },
  {
   "cell_type": "code",
   "execution_count": 6,
   "metadata": {},
   "outputs": [
    {
     "name": "stdout",
     "output_type": "stream",
     "text": [
      "3\n",
      "2\n",
      "3.33333333333\n"
     ]
    }
   ],
   "source": [
    "pos=0\n",
    "neg=0\n",
    "fgd1=[]\n",
    "finding = ledo.find({'content': 'leadership'})\n",
    "for obj in finding:\n",
    "    fgd1.append(obj[\"review\"])   \n",
    "print(len(fgd1))\n",
    "for i in fgd1:\n",
    "    xx=removeStopwords(cleanStr(i))\n",
    "    pred=clf.predict(count_vect.transform([xx]))\n",
    "    \n",
    "    if pred =='POSITIVE':\n",
    "        pos=pos+1\n",
    "print(pos)   \n",
    "score= pos\n",
    "print((float(pos)/float(len(fgd1)))*5)\n",
    "\n",
    "\n",
    "\n",
    "\n"
   ]
  },
  {
   "cell_type": "code",
   "execution_count": null,
   "metadata": {},
   "outputs": [],
   "source": []
  }
 ],
 "metadata": {
  "kernelspec": {
   "display_name": "Python 2",
   "language": "python",
   "name": "python2"
  },
  "language_info": {
   "codemirror_mode": {
    "name": "ipython",
    "version": 2
   },
   "file_extension": ".py",
   "mimetype": "text/x-python",
   "name": "python",
   "nbconvert_exporter": "python",
   "pygments_lexer": "ipython2",
   "version": "2.7.15"
  }
 },
 "nbformat": 4,
 "nbformat_minor": 2
}
