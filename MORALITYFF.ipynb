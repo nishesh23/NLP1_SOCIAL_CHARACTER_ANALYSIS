{
 "cells": [
  {
   "cell_type": "code",
   "execution_count": 8,
   "metadata": {},
   "outputs": [
    {
     "name": "stdout",
     "output_type": "stream",
     "text": [
      "Multiple posts: [ObjectId('5c0e06c1f43ca003ad60b79d'), ObjectId('5c0e06c1f43ca003ad60b79e'), ObjectId('5c0e06c1f43ca003ad60b79f'), ObjectId('5c0e06c1f43ca003ad60b7a0')]\n"
     ]
    }
   ],
   "source": [
    "import datetime\n",
    "now = datetime.datetime.now()\n",
    "from pymongo import MongoClient\n",
    "from bson.objectid import ObjectId\n",
    "con = MongoClient(\"localhost\", 27017)\n",
    "db=con.nishesh\n",
    "triman= db.mrinalni\n",
    "post_1 = {\n",
    "    'name': 'RAHUL',\n",
    "    'content': 'morality',\n",
    "    'review': \"i hate animals, i cheated on my girlfriend\"\n",
    "}\n",
    "post_2 = {\n",
    "     'name': 'ROHITH',\n",
    "    'content': 'morality',\n",
    "    'review':  \"i dont chase happiness, i enjoy my life.\"\n",
    "}\n",
    "post_3 = {\n",
    "     'name': 'RAJAN',\n",
    "    'content': 'morality',\n",
    "    'review': \"i waste my time, i hate my country\"\n",
    "}\n",
    "post_4 = {\n",
    "     'name': 'pushpa',\n",
    "    'content': 'morality',\n",
    "    'review': \" i dont value the things i have in my life,But value who i have in my life\"\n",
    "}\n",
    "new_result = triman.insert_many([post_1, post_2, post_3, post_4])\n",
    "print('Multiple posts: {0}'.format(new_result.inserted_ids))\n",
    "\n",
    "import re\n",
    "import pandas as pd \n",
    "import numpy as np \n",
    "import matplotlib.pyplot as plt \n",
    "import seaborn as sns\n",
    "import string\n",
    "import nltk\n",
    "import warnings \n",
    "from nltk.corpus import stopwords\n",
    "from nltk.tokenize import word_tokenize\n",
    "\n",
    "def cleanStr(string):\n",
    "    string = re.sub(r\"\\'s\", \"\", string)\n",
    "    string = re.sub(r\"\\'ve\", \"\", string)\n",
    "    string = re.sub(r\"n\\'t\", \"\", string)\n",
    "    string = re.sub(r\"\\'re\", \"\", string)\n",
    "    string = re.sub(r\"\\'d\", \"\", string)\n",
    "    string = re.sub(r\"\\'ll\", \"\", string)\n",
    "    string = re.sub(r\",\", \"\", string)\n",
    "    string = re.sub(r\"!\", \" ! \", string)\n",
    "    string = re.sub(r\"\\(\", \"\", string)\n",
    "    string = re.sub(r\"\\)\", \"\", string)\n",
    "    string = re.sub(r\"\\?\", \"\", string)\n",
    "    string = re.sub(r\"'\", \"\", string)\n",
    "    string = re.sub(r\"[^A-Za-z0-9(),!?\\'\\`]\", \" \", string)\n",
    "    string = re.sub(r\"[0-9]\\w+|[0-9]\",\"\", string)\n",
    "    string = re.sub(r\"\\s{2,}\", \" \", string)\n",
    "    return string.strip().lower()\n"
   ]
  },
  {
   "cell_type": "code",
   "execution_count": 9,
   "metadata": {},
   "outputs": [],
   "source": [
    "from nltk.corpus import stopwords\n",
    "from nltk.tokenize import word_tokenize\n",
    "stop_words = set(stopwords.words('english'))\n",
    "\n",
    "def removeStopwords(sentence):\n",
    "    word_tokens = word_tokenize(sentence)\n",
    "    filtered_sentence = []\n",
    "    for w in word_tokens:\n",
    "        if w not in stop_words:\n",
    "            filtered_sentence.append(w)\n",
    "            \n",
    "    \n",
    "    return \" \".join(str(e) for e in filtered_sentence)"
   ]
  },
  {
   "cell_type": "code",
   "execution_count": 10,
   "metadata": {},
   "outputs": [
    {
     "name": "stdout",
     "output_type": "stream",
     "text": [
      "['motivationthe best short moral stories valuable lessonspublished years agoon dan western best short moral stories', 'tweet', 'stories morals messages behind always powerful fact crazy powerful word story', '', 'last article short stories became popular decided create another list every story simple moral behind', '', '', '', 'old man lived village', 'short moral stories old man', 'old man lived village one unfortunate people world whole village tired always gloomy constantly complained always bad mood', '', 'longer lived bile becoming poisonous words people avoided misfortune became contagious even unnatural insulting happy next', '', 'created feeling unhappiness others', '', 'one day turned eighty years old incredible thing happened instantly everyone started hearing rumour old man happy today complain anything smiles even face freshened', '', 'whole village gathered together old man asked', '', 'villager happened', '', 'nothing special eighty years chasing happiness useless decided live without happiness enjoy life happy old man', '', 'moral story chase happiness enjoy life', '', '', '', 'wise man', 'short moral stories wise man', 'people coming wise man complaining problems every time one day told joke everyone roared laughter', '', 'couple minutes told joke smiled', '', 'told joke third time one laughed anymore', '', 'wise man smiled said', '', 'laugh joke always crying problem', '', 'moral story worrying solve problems waste time energy', '', '', '', 'foolish donkey', 'short moral stories foolish donkey', 'salt seller used carry salt bag donkey market every day', '', 'way cross stream one day donkey suddenly tumbled stream salt bag also fell water salt dissolved water hence bag became light carry donkey happy', '', 'donkey started play trick every day salt seller came understand trick decided teach lesson next day loaded cotton bag donkey played trick hoping cotton bag would still become lighter', '', 'dampened cotton became heavy carry donkey suffered learnt lesson play trick anymore day seller happy', '', 'moral story luck favor always', 'story tells two friends walking desert point journey argument one friend slapped one face', '', 'one got slapped hurt without saying anything wrote sand', '', 'today best friend slapped face', '', 'kept walking found oasis decided take bath one slapped got stuck mire started drowning friend saved recovered near drowning wrote stone', '', 'today best friend saved life', '', 'friend slapped saved best friend asked', '', 'hurt wrote sand write stone', '', 'friend replied', '', 'someone hurts us write sand winds forgiveness erase away someone something good us must engrave stone wind ever erase', '', 'moral story value things life value life', '', 'stories morals messages behind always powerful fact crazy powerful word story', '', 'last article short stories became popular decided create another list every story simple moral behind', '', '', '', '', '', '', 'best friend', 'short moral stories best friend', 'story tells two friends walking desert point journey argument one friend slapped one face', '', 'one got slapped hurt without saying anything wrote sand', '', 'today best friend slapped face', '', 'kept walking found oasis decided take bath one slapped got stuck mire started drowning friend saved recovered near drowning wrote stone', '', 'today best friend saved life', '', 'friend slapped saved best friend asked', '', 'hurt wrote sand write stone', '', 'friend replied', '', 'someone hurts us write sand winds forgiveness erase away someone something good us must engrave stone wind ever erase', '', 'moral story value things life value life', '', '', '', 'four smart students', 'short moral stories four smart students', 'one night four college students partying late night study test scheduled next day morning thought plan made look dirty grease dirt', '', 'went dean said gone wedding last night way back tire car burst push car way back condition take test', '', 'dean thought minute said test days thanked said ready time', '', 'third day appeared dean dean said special condition test four required sit separate classrooms test agreed prepared well last days', '', '', 'moral story take responsibility learn lesson', '', '', '', 'greedy lion', 'short moral stories greedy lion', 'incredibly hot day lion feeling hungry', '', 'came den searched could find small hare caught hare hesitation hare fill stomach thought lion', '', 'lion kill hare deer ran way lion became greedy thought', '', 'instead eating small hare let eat big deer', '', 'let hare go went behind deer deer vanished forest lion felt sorry letting hare', '', 'moral story bird hand worth two bush', 'vijay raju friends holiday went walking forest enjoying beauty nature suddenly saw bear coming became frightened', '', 'raju knew climbing trees ran tree climbed quickly think vijay vijay idea climb tree', '', 'vijay thought second heard animals prefer dead bodies fell ground held breath bear sniffed thought dead went way', '', 'raju asked vijay', '', 'bear whisper ears', '', 'vijay replied bear asked keep away friends like went way', '', 'moral story friend need friend indeed', 'stories morals messages behind always powerful fact crazy powerful word story', '', 'last article short stories became popular decided create another list every story simple moral behind', '', '', '', 'two friends bear', 'short moral stories two friends bear', 'vijay raju friends holiday went walking forest enjoying beauty nature suddenly saw bear coming became frightened', '', 'raju knew climbing trees ran tree climbed quickly think vijay vijay idea climb tree', '', 'vijay thought second heard animals prefer dead bodies fell ground held breath bear sniffed thought dead went way', '', 'raju asked vijay', '', 'bear whisper ears', '', 'vijay replied bear asked keep away friends like went way', '', 'moral story friend need friend indeed', '', '', '', 'struggles life', 'short moral stories struggles life', 'upon time daughter complained father life miserable know going make tired fighting struggling time seemed one problem solved another one soon followed', '', 'father chef took kitchen filled three pots water placed high fire', '', 'three pots began boil placed potatoes one pot eggs second pot ground coffee beans third pot let sit boil without saying word daughter', '', 'daughter moaned impatiently waited wondering twenty minutes turned burners', '', 'took potatoes pot placed bowl pulled eggs placed bowl ladled coffee placed cup', '', 'turning asked daughter see', '', 'potatoes eggs coffee hastily replied', '', 'look closer said touch potatoes noted soft', '', 'asked take egg break pulling shell observed hard boiled egg', '', 'finally asked sip coffee rich aroma brought smile face', '', 'father mean asked', '', 'explained potatoes eggs coffee beans faced adversity boiling water however one reacted differently potato went strong hard unrelenting boiling water became soft weak', '', 'egg fragile thin outer shell protecting liquid interior put boiling water inside egg became hard however ground coffee beans unique exposed boiling water changed water created something new', '', 'one asked daughter', '', 'adversity knocks door respond potato egg coffee bean', '', 'moral story life things happen around us things happen us thing truly matters choose react make life leaning adopting converting struggles experience something positive', 'stories morals messages behind always powerful fact crazy powerful word story', '', 'last article short stories became popular decided create another list every story simple moral behind', '', 'fox grapes', 'short moral stories fox grapes', 'one afternoon fox walking forest spotted bunch grapes hanging lofty branch', '', 'thing quench thirst thought', '', 'taking steps back fox jumped missed hanging grapes fox took paces back tried reach still failed', '', 'finally giving fox turned nose said probably sour anyway proceeded walk away', '', 'moral story easy despise', '', '', '', 'slave ill treated master runs away forest comes across lion pain thorn paw slave bravely goes forward removes thorn gently', '', 'lion without hurting goes away', '', 'days later slave master comes hunting forest catches many animals cages slave spotted masters men catch bring cruel master master asks slave thrown lion cage', '', 'slave awaiting death cage realizes lion helped slave rescued lion caged animals', '', 'moral story one help others need get rewards helpful acts return', 'upon time kingdom king one leg one eye intelligent kind everyone kingdom lived happy healthy life king one day king walking palace hallway saw portraits ancestors thought one day children walk hallway remember ancestors portraits', '', 'king portrait painted due physical disabilities sure painting would turn invited many famous painters kingdoms court king announced wants beautiful portrait made placed palace painter carry come forward rewarded based painting turns', '', 'painters began think king one leg one eye picture made beautiful possible picture turn look beautiful king get angry punish one one started make excuses politely declined make painting king', '', 'suddenly one painter raised hand said make beautiful portrait surely like king became happy hearing painters got curious king gave permission painter started drawing portrait filled drawing paints finally taking long time said portrait ready !', '', 'courtiers painters curious nervous thinking painter make king portrait beautiful king physically disabled king like painting gets angry painter presented portrait everyone court including king left stunned', '', 'painter made portrait king sitting horse one leg side holding bow aiming arrow one eye closed king pleased see painter made beautiful portrait cleverly hiding king disabilities king gave great reward', '', 'moral always think positive others ignore deficiencies learn focus good things instead trying hide weaknesses think approach positively even negative situation able solve problems efficiently', 'recently steve car accident put car garage carry repair work since go job daily decided car ready travel metro train one day noticed homeless guy train station night felt pity gave change pocket', '', 'homeless guy thanked next day noticed homeless guy place time steve though get something eat went outside station brought meal homeless guy thanked kindness steve got curious asked get point', '', 'homeless guy looked smile said showing love steve understand asked mean homeless guy replied throughout whole life made sure everyone happy matter going right wrong life always helped everyone', '', 'steve asked regret homeless man replied hurts soul people gave shirt back give sleeve shirt need son better build house invite someone shelter hand bricks building one day turn around look spot planned build house empty lot one looking bricks', '', 'steve understood homeless guy meant thanked good advice', '', 'moral helping others bad thing sometimes helping others forget problems needs one must remember sometimes sharing better giving away lot strong position instead bringing weaker situation', '', 'one day shepherd discovered fat pig meadow sheep pastured quickly captured porker squealed top voice moment shepherd laid hands would thought hear loud squealing pig cruelly hurt spite squeals struggles escape shepherd tucked prize arm started butcher marketplace', '', 'sheep pasture much astonished amused pig behavior followed shepherd charge pasture gate', '', 'makes squeal like asked one sheep shepherd often catches carries one us feel much ashamed make terrible fuss like', '', 'well replied pig squeal frantic kick catches wool wants bacon ! gree ee ee !', '', 'moral easy brave danger compare two different situations without understanding', '', 'farmer walked field one cold winter morning ground lay snake stiff frozen cold farmer knew deadly snake could yet picked put bosom warm back life', '', 'snake soon revived enough strength bit man kind bite deadly farmer felt must die drew last breath said standing around learn fate take pity scoundrel', '', 'moral never changes nature regardless good behave always stay alert maintain distance thinking benefits', '', 'upon time small town lived man see blind yet carried lighted lamp whenever went night', '', 'one night coming home dinner outside came across group young travellers saw blind yet carrying lighted lamp started passing comments made fun one asked hey man ! blind see anything ! carry lamp !', '', 'blind man replied yes unfortunately blind see anything lighted lamp carrying people like see may see blind man coming end pushing carry lighted lamp', '', 'group travellers felt ashamed apologized behaviour', '', 'moral think judging others always polite learn see things others point view']\n",
      "BREAK\n",
      "['', 'wine women make wise men dote forsake god law wrong', '', 'however fault wine often woman', 'fault one misuses wine woman god crations', 'even get drunk wine greed lapse lechery', 'wine blame unable unwilling discipline', 'even look woman become caught beauty assent sin adultery extramarital sex', 'woman blame beauty given god disparaged rather', 'blame keeping heart clear wicked thoughts feel tempted sight woman control gaze better', 'free leave nothing constrains commit lechery lecherous heart', 'typically moral stories end way positive behaviour good action somehow reinforced', 'whereas negative action leads form negative consequences juridically punishment', 'socially criticism reprimand morally contempt', 'cheat girlfriend', 'drink alcohol', 'smoke', 'help needy', 'decieve friends', 'hit dog', 'hit man', 'steal money', 'steal car', 'abuse family', 'abuse girlfriend', 'sex marriage', 'slept prostitute', 'lie parents', 'ran away house', 'cheated game', 'dont stand national anthem', 'hate country', 'brush today', 'hate soldiers country', 'shot person', 'beat stranger', 'cheated friend', 'illegal rifle', 'abused parents', 'drunk cheated girlfriend', 'hate face', 'hate body', 'fat', 'ugly', 'beat professor', 'harrased girl', 'blame others mistake', 'bad guy', 'bad girl', 'waste food', 'waste money', 'lost money', 'kidnapped boy', 'lost money gambling', 'waste time', 'waste time watching series', 'mastubate', 'feeling lust many women', 'fuck word used fuck', 'beat animals', 'hate people', 'hate dogs', 'hate animals', 'waste time social network', 'waste time playing video games', 'hate working', 'lie girls facebook single', 'send nudes unknown girls', 'send nudes unknown boys', '', '']\n",
      "break2\n",
      "['POSITIVE', 'POSITIVE', 'POSITIVE', 'POSITIVE', 'POSITIVE', 'POSITIVE', 'POSITIVE', 'POSITIVE', 'POSITIVE', 'POSITIVE', 'POSITIVE', 'POSITIVE', 'POSITIVE', 'POSITIVE', 'POSITIVE', 'POSITIVE', 'POSITIVE', 'POSITIVE', 'POSITIVE', 'POSITIVE', 'POSITIVE', 'POSITIVE', 'POSITIVE', 'POSITIVE', 'POSITIVE', 'POSITIVE', 'POSITIVE', 'POSITIVE', 'POSITIVE', 'POSITIVE', 'POSITIVE', 'POSITIVE', 'POSITIVE', 'POSITIVE', 'POSITIVE', 'POSITIVE', 'POSITIVE', 'POSITIVE', 'POSITIVE', 'POSITIVE', 'POSITIVE', 'POSITIVE', 'POSITIVE', 'POSITIVE', 'POSITIVE', 'POSITIVE', 'POSITIVE', 'POSITIVE', 'POSITIVE', 'POSITIVE', 'POSITIVE', 'POSITIVE', 'POSITIVE', 'POSITIVE', 'POSITIVE', 'POSITIVE', 'POSITIVE', 'POSITIVE', 'POSITIVE', 'POSITIVE', 'POSITIVE', 'POSITIVE', 'POSITIVE', 'POSITIVE', 'POSITIVE', 'POSITIVE', 'POSITIVE', 'POSITIVE', 'POSITIVE', 'POSITIVE', 'POSITIVE', 'POSITIVE', 'POSITIVE', 'POSITIVE', 'POSITIVE', 'POSITIVE', 'POSITIVE', 'POSITIVE', 'POSITIVE', 'POSITIVE', 'POSITIVE', 'POSITIVE', 'POSITIVE', 'POSITIVE', 'POSITIVE', 'POSITIVE', 'POSITIVE', 'POSITIVE', 'POSITIVE', 'POSITIVE', 'POSITIVE', 'POSITIVE', 'POSITIVE', 'POSITIVE', 'POSITIVE', 'POSITIVE', 'POSITIVE', 'POSITIVE', 'POSITIVE', 'POSITIVE', 'POSITIVE', 'POSITIVE', 'POSITIVE', 'POSITIVE', 'POSITIVE', 'POSITIVE', 'POSITIVE', 'POSITIVE', 'POSITIVE', 'POSITIVE', 'POSITIVE', 'POSITIVE', 'POSITIVE', 'POSITIVE', 'POSITIVE', 'POSITIVE', 'POSITIVE', 'POSITIVE', 'POSITIVE', 'POSITIVE', 'POSITIVE', 'POSITIVE', 'POSITIVE', 'POSITIVE', 'POSITIVE', 'POSITIVE', 'POSITIVE', 'POSITIVE', 'POSITIVE', 'POSITIVE', 'POSITIVE', 'POSITIVE', 'POSITIVE', 'POSITIVE', 'POSITIVE', 'POSITIVE', 'POSITIVE', 'POSITIVE', 'POSITIVE', 'POSITIVE', 'POSITIVE', 'POSITIVE', 'POSITIVE', 'POSITIVE', 'POSITIVE', 'POSITIVE', 'POSITIVE', 'POSITIVE', 'POSITIVE', 'POSITIVE', 'POSITIVE', 'POSITIVE', 'POSITIVE', 'POSITIVE', 'POSITIVE', 'POSITIVE', 'POSITIVE', 'POSITIVE', 'POSITIVE', 'POSITIVE', 'POSITIVE', 'POSITIVE', 'POSITIVE', 'POSITIVE', 'POSITIVE', 'POSITIVE', 'POSITIVE', 'POSITIVE', 'POSITIVE', 'POSITIVE', 'POSITIVE', 'POSITIVE', 'POSITIVE', 'POSITIVE', 'POSITIVE', 'POSITIVE', 'POSITIVE', 'POSITIVE', 'POSITIVE', 'POSITIVE', 'POSITIVE', 'POSITIVE', 'POSITIVE', 'POSITIVE', 'POSITIVE', 'POSITIVE', 'POSITIVE', 'POSITIVE', 'POSITIVE', 'POSITIVE', 'POSITIVE', 'POSITIVE', 'POSITIVE', 'POSITIVE', 'POSITIVE', 'POSITIVE', 'POSITIVE', 'POSITIVE', 'POSITIVE', 'POSITIVE', 'POSITIVE', 'POSITIVE', 'POSITIVE', 'POSITIVE', 'POSITIVE', 'POSITIVE', 'POSITIVE', 'POSITIVE', 'POSITIVE', 'POSITIVE', 'POSITIVE', 'POSITIVE', 'POSITIVE', 'POSITIVE', 'POSITIVE', 'POSITIVE', 'POSITIVE', 'POSITIVE', 'POSITIVE', 'POSITIVE', 'POSITIVE', 'POSITIVE', 'POSITIVE', 'POSITIVE', 'POSITIVE', 'POSITIVE', 'POSITIVE', 'POSITIVE', 'POSITIVE', 'POSITIVE', 'POSITIVE', 'POSITIVE', 'POSITIVE', 'POSITIVE', 'POSITIVE', 'POSITIVE', 'POSITIVE', 'POSITIVE', 'POSITIVE', 'POSITIVE', 'POSITIVE', 'POSITIVE', 'POSITIVE', 'POSITIVE', 'POSITIVE', 'POSITIVE', 'POSITIVE', 'POSITIVE', 'POSITIVE', 'POSITIVE', 'POSITIVE', 'POSITIVE', 'POSITIVE', 'POSITIVE', 'POSITIVE', 'POSITIVE', 'POSITIVE', 'POSITIVE', 'POSITIVE', 'POSITIVE', 'POSITIVE', 'POSITIVE', 'POSITIVE', 'POSITIVE', 'POSITIVE', 'POSITIVE', 'POSITIVE', 'POSITIVE', 'POSITIVE', 'POSITIVE', 'POSITIVE', 'POSITIVE', 'POSITIVE', 'POSITIVE', 'POSITIVE', 'POSITIVE', 'POSITIVE', 'POSITIVE', 'POSITIVE', 'POSITIVE', 'POSITIVE', 'POSITIVE', 'POSITIVE']\n",
      "283\n",
      "71\n"
     ]
    }
   ],
   "source": [
    "fgd = open(\"posmora.txt\")\n",
    "fgd1 = fgd.readlines()\n",
    "gdArr = []\n",
    "for i in fgd1:\n",
    "    gdArr.append(removeStopwords(cleanStr(i)))\n",
    "\n",
    "fgd = open(\"negmora.txt\")\n",
    "fgd1 = fgd.readlines()\n",
    "adArr = []\n",
    "for i in fgd1:\n",
    "    adArr.append(removeStopwords(cleanStr(i)))\n",
    "\n",
    "descArr = gdArr+adArr\n",
    "print(gdArr)\n",
    "print (\"BREAK\")\n",
    "print (adArr)\n",
    "\n",
    "gdLabel = [\"POSITIVE\"]*len(gdArr)\n",
    "\n",
    "adLabel = [\"NEGATTIVE\"]*len(adArr)\n",
    "\n",
    "print (\"break2\")\n",
    "print(gdLabel)\n",
    "\n",
    "print(len(gdLabel))\n",
    "print(len(adLabel))\n",
    "\n",
    "labelArr =gdLabel+adLabel\n"
   ]
  },
  {
   "cell_type": "code",
   "execution_count": 11,
   "metadata": {},
   "outputs": [],
   "source": [
    "from sklearn.svm import LinearSVC\n",
    "from sklearn.model_selection import train_test_split\n",
    "from sklearn.feature_extraction.text import CountVectorizer\n",
    "from sklearn.feature_extraction.text import TfidfTransformer\n",
    "\n",
    "\n",
    "X_train, X_test, y_train, y_test = train_test_split(descArr, labelArr, random_state = True)\n",
    "count_vect = CountVectorizer()\n",
    "X_train_counts = count_vect.fit_transform(X_train)\n",
    "tfidf_transformer = TfidfTransformer()\n",
    "X_train_tfidf = tfidf_transformer.fit_transform(X_train_counts)\n",
    "clf = LinearSVC().fit(X_train_tfidf,y_train )"
   ]
  },
  {
   "cell_type": "code",
   "execution_count": 12,
   "metadata": {},
   "outputs": [
    {
     "name": "stdout",
     "output_type": "stream",
     "text": [
      "[u'i hate animals, i cheated on my girlfriend', u'i dont chase happiness, i enjoy my life.', u'i waste my time, i hate my country', u' i dont value the things i have in my life,But value who i have in my life', u'i hate animals, i cheated on my girlfriend', u'i dont chase happiness, i enjoy my life.', u'i waste my time, i hate my country', u' i dont value the things i have in my life,But value who i have in my life']\n",
      "8\n",
      "4\n",
      "2.5\n"
     ]
    }
   ],
   "source": [
    "pos=0\n",
    "neg=0\n",
    "fgd1=[]\n",
    "finding = triman.find({'content': 'morality'})\n",
    "for obj in finding:\n",
    "    fgd1.append(obj[\"review\"])\n",
    "\n",
    "for i in fgd1:\n",
    "    xx=removeStopwords(cleanStr(i))\n",
    "    pred=clf.predict(count_vect.transform([xx]))\n",
    "    \n",
    "    if pred =='POSITIVE':\n",
    "        pos=pos+1\n",
    "print(fgd1)\n",
    "print(len(fgd1))\n",
    "print(pos)   \n",
    "print((float(pos)/float(len(fgd1)))*5)\n"
   ]
  },
  {
   "cell_type": "code",
   "execution_count": null,
   "metadata": {},
   "outputs": [],
   "source": []
  },
  {
   "cell_type": "code",
   "execution_count": null,
   "metadata": {},
   "outputs": [],
   "source": []
  }
 ],
 "metadata": {
  "kernelspec": {
   "display_name": "Python 3",
   "language": "python",
   "name": "python3"
  },
  "language_info": {
   "codemirror_mode": {
    "name": "ipython",
    "version": 3
   },
   "file_extension": ".py",
   "mimetype": "text/x-python",
   "name": "python",
   "nbconvert_exporter": "python",
   "pygments_lexer": "ipython3",
   "version": "3.7.3"
  }
 },
 "nbformat": 4,
 "nbformat_minor": 2
}
